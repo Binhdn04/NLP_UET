{
  "nbformat": 4,
  "nbformat_minor": 0,
  "metadata": {
    "colab": {
      "provenance": []
    },
    "kernelspec": {
      "name": "python3",
      "display_name": "Python 3"
    },
    "language_info": {
      "name": "python"
    }
  },
  "cells": [
    {
      "cell_type": "code",
      "source": [
        "import bz2\n",
        "\n",
        "# Tên tệp đã tải lên\n",
        "input_file = 'viwiki-20240201-pages-articles-multistream4.xml-p6065247p7565246.bz2'\n",
        "output_file = 'viwiki.xml'\n",
        "\n",
        "# Giải nén tệp\n",
        "with bz2.open(input_file, 'rb') as f_in:\n",
        "    with open(output_file, 'wb') as f_out:\n",
        "        f_out.write(f_in.read())"
      ],
      "metadata": {
        "id": "72T9kEBSaNib"
      },
      "execution_count": null,
      "outputs": []
    },
    {
      "cell_type": "code",
      "source": [
        "!pip install wikiextractor"
      ],
      "metadata": {
        "colab": {
          "base_uri": "https://localhost:8080/"
        },
        "id": "IWAmmfuMflc1",
        "outputId": "05de620e-b87a-45d8-8a98-0d365a7d0e98"
      },
      "execution_count": null,
      "outputs": [
        {
          "output_type": "stream",
          "name": "stdout",
          "text": [
            "Collecting wikiextractor\n",
            "  Downloading wikiextractor-3.0.6-py3-none-any.whl (46 kB)\n",
            "\u001b[2K     \u001b[90m━━━━━━━━━━━━━━━━━━━━━━━━━━━━━━━━━━━━━━━━\u001b[0m \u001b[32m46.4/46.4 kB\u001b[0m \u001b[31m1.3 MB/s\u001b[0m eta \u001b[36m0:00:00\u001b[0m\n",
            "\u001b[?25hInstalling collected packages: wikiextractor\n",
            "Successfully installed wikiextractor-3.0.6\n"
          ]
        }
      ]
    },
    {
      "cell_type": "code",
      "source": [
        "!python -m wikiextractor.WikiExtractor viwiki.xml"
      ],
      "metadata": {
        "colab": {
          "base_uri": "https://localhost:8080/"
        },
        "id": "rPhEoKb5bhiL",
        "outputId": "740d072a-69a1-44b9-d06e-2b4072e6030b"
      },
      "execution_count": null,
      "outputs": [
        {
          "output_type": "stream",
          "name": "stdout",
          "text": [
            "INFO: Preprocessing 'viwiki.xml' to collect template definitions: this may take some time.\n",
            "INFO: Loaded 577 templates in 0.6s\n",
            "INFO: Starting page extraction from viwiki.xml.\n",
            "INFO: Using 1 extract processes.\n",
            "INFO: Finished 1-process extraction of 2934 articles in 3.0s (966.9 art/s)\n"
          ]
        }
      ]
    },
    {
      "cell_type": "code",
      "source": [
        "!ls text"
      ],
      "metadata": {
        "colab": {
          "base_uri": "https://localhost:8080/"
        },
        "id": "jSrt_F0md9Zy",
        "outputId": "9674f27e-02e1-43ce-9778-ebaece534a67"
      },
      "execution_count": null,
      "outputs": [
        {
          "output_type": "stream",
          "name": "stdout",
          "text": [
            "AA\n"
          ]
        }
      ]
    },
    {
      "cell_type": "code",
      "source": [
        "with open('text/AA/wiki_00', 'r') as file:\n",
        "    print(file.read())"
      ],
      "metadata": {
        "id": "VFEgHDa1hIdy"
      },
      "execution_count": null,
      "outputs": []
    },
    {
      "cell_type": "code",
      "source": [
        "# Liệt kê các file trong thư mục text/AA\n",
        "!ls text/AA\n",
        "\n",
        "# Gộp các file thành một file txt duy nhất\n",
        "!cat text/AA/wiki_* > combined.txt"
      ],
      "metadata": {
        "colab": {
          "base_uri": "https://localhost:8080/"
        },
        "id": "IChEOoIGgUfR",
        "outputId": "12f6fb52-1ead-40d1-d3cb-f0430e7af473"
      },
      "execution_count": null,
      "outputs": [
        {
          "output_type": "stream",
          "name": "stdout",
          "text": [
            "wiki_00  wiki_01  wiki_02  wiki_03  wiki_04  wiki_05\n"
          ]
        }
      ]
    },
    {
      "cell_type": "code",
      "source": [
        "from google.colab import files\n",
        "files.download('combined.txt')"
      ],
      "metadata": {
        "colab": {
          "base_uri": "https://localhost:8080/",
          "height": 17
        },
        "id": "Vkh2ye3ehLZt",
        "outputId": "a9e0399f-332e-451f-aa45-675fe9ffeddd"
      },
      "execution_count": null,
      "outputs": [
        {
          "output_type": "display_data",
          "data": {
            "text/plain": [
              "<IPython.core.display.Javascript object>"
            ],
            "application/javascript": [
              "\n",
              "    async function download(id, filename, size) {\n",
              "      if (!google.colab.kernel.accessAllowed) {\n",
              "        return;\n",
              "      }\n",
              "      const div = document.createElement('div');\n",
              "      const label = document.createElement('label');\n",
              "      label.textContent = `Downloading \"${filename}\": `;\n",
              "      div.appendChild(label);\n",
              "      const progress = document.createElement('progress');\n",
              "      progress.max = size;\n",
              "      div.appendChild(progress);\n",
              "      document.body.appendChild(div);\n",
              "\n",
              "      const buffers = [];\n",
              "      let downloaded = 0;\n",
              "\n",
              "      const channel = await google.colab.kernel.comms.open(id);\n",
              "      // Send a message to notify the kernel that we're ready.\n",
              "      channel.send({})\n",
              "\n",
              "      for await (const message of channel.messages) {\n",
              "        // Send a message to notify the kernel that we're ready.\n",
              "        channel.send({})\n",
              "        if (message.buffers) {\n",
              "          for (const buffer of message.buffers) {\n",
              "            buffers.push(buffer);\n",
              "            downloaded += buffer.byteLength;\n",
              "            progress.value = downloaded;\n",
              "          }\n",
              "        }\n",
              "      }\n",
              "      const blob = new Blob(buffers, {type: 'application/binary'});\n",
              "      const a = document.createElement('a');\n",
              "      a.href = window.URL.createObjectURL(blob);\n",
              "      a.download = filename;\n",
              "      div.appendChild(a);\n",
              "      a.click();\n",
              "      div.remove();\n",
              "    }\n",
              "  "
            ]
          },
          "metadata": {}
        },
        {
          "output_type": "display_data",
          "data": {
            "text/plain": [
              "<IPython.core.display.Javascript object>"
            ],
            "application/javascript": [
              "download(\"download_ddb116b1-ca08-4546-8f1e-19206db076ee\", \"combined.txt\", 5266004)"
            ]
          },
          "metadata": {}
        }
      ]
    },
    {
      "cell_type": "code",
      "source": [],
      "metadata": {
        "id": "VYg8WKUOhhXn"
      },
      "execution_count": null,
      "outputs": []
    }
  ]
}